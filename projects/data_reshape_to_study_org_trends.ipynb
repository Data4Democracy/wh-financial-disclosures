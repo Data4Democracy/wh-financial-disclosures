{
 "cells": [
  {
   "cell_type": "markdown",
   "metadata": {
    "deletable": true,
    "editable": true
   },
   "source": [
    "# data.world\n",
    "## D4D Hack Financial Disclosures"
   ]
  },
  {
   "cell_type": "markdown",
   "metadata": {},
   "source": [
    "> #### Setup  \n",
    "\n",
    "> Before running data.world notebooks for the first time, you'll need to:  \n",
    "1. Install data.world's Python package, including optional `pandas` dependencies: \n",
    "```shell\n",
    "pip install git+git://github.com/datadotworld/data.world-py.git#egg=project[PANDAS]\n",
    "```\n",
    "1. Obtain an API access token at https://data.world/settings/advanced\n",
    "1. Store API access token using the `dw` command-line tool: \n",
    "```shell\n",
    "dw configure\n",
    "```\n",
    "\n",
    "> Once your environment is set up, these steps do not need to be repeated for other data.world notebooks."
   ]
  },
  {
   "cell_type": "code",
   "execution_count": 1,
   "metadata": {
    "collapsed": true,
    "deletable": true,
    "editable": true
   },
   "outputs": [],
   "source": [
    "import datadotworld as dw\n",
    "import csv\n",
    "import pandas as pd"
   ]
  },
  {
   "cell_type": "code",
   "execution_count": 2,
   "metadata": {
    "collapsed": true,
    "deletable": true,
    "editable": true
   },
   "outputs": [],
   "source": [
    "# Datasets are referenced by their path\n",
    "dataset_key = 'rflprr/d-4-d-hack-financial-disclosures'\n",
    "\n",
    "# Or simply by their URL\n",
    "dataset_key = 'https://data.world/rflprr/d-4-d-hack-financial-disclosures'"
   ]
  },
  {
   "cell_type": "code",
   "execution_count": 3,
   "metadata": {
    "collapsed": false,
    "deletable": true,
    "editable": true
   },
   "outputs": [],
   "source": [
    "# Load dataset (onto the local file system)\n",
    "dataset_local = dw.load_dataset(dataset_key, force_update=True)  # cached under ~/.dw/cache"
   ]
  },
  {
   "cell_type": "code",
   "execution_count": 4,
   "metadata": {
    "collapsed": false,
    "deletable": true,
    "editable": true
   },
   "outputs": [
    {
     "data": {
      "text/plain": [
       "{'homepage': 'https://data.world/rflprr/d-4-d-hack-financial-disclosures',\n",
       " 'name': 'rflprr_d-4-d-hack-financial-disclosures',\n",
       " 'resources': [{'format': 'csv',\n",
       "   'name': 'endnotes',\n",
       "   'path': 'data/endnotes.csv'},\n",
       "  {'format': 'csv',\n",
       "   'name': 'filer-s-employment-agreements-and-arrangements',\n",
       "   'path': 'data/filer-s-employment-agreements-and-arrangements.csv'},\n",
       "  {'format': 'csv',\n",
       "   'name': 'filer-s-employment-assets-_-income-and-retirement-accounts',\n",
       "   'path': 'data/filer-s-employment-assets-&-income-and-retirement-accounts.csv'},\n",
       "  {'format': 'csv',\n",
       "   'name': 'filer-s-positions-held-outside-united-states-government',\n",
       "   'path': 'data/filer-s-positions-held-outside-united-states-government.csv'},\n",
       "  {'format': 'csv',\n",
       "   'name': 'filer-s-sources-of-compensation-exceeding-_5-000-in-a-year',\n",
       "   'path': 'data/filer-s-sources-of-compensation-exceeding-$5-000-in-a-year.csv'},\n",
       "  {'format': 'csv', 'name': 'liabilities', 'path': 'data/liabilities.csv'},\n",
       "  {'format': 'csv', 'name': 'names', 'path': 'data/names.csv'},\n",
       "  {'format': 'csv', 'name': 'org_crosswalk', 'path': 'data/org_crosswalk.csv'},\n",
       "  {'format': 'csv',\n",
       "   'name': 'other-assets-and-income',\n",
       "   'path': 'data/other-assets-and-income.csv'},\n",
       "  {'format': 'csv',\n",
       "   'name': 'spouse-s-employment-assets-_-income-and-retirement-accounts',\n",
       "   'path': 'data/spouse-s-employment-assets-&-income-and-retirement-accounts.csv'}]}"
      ]
     },
     "execution_count": 4,
     "metadata": {},
     "output_type": "execute_result"
    }
   ],
   "source": [
    "# See what is in it\n",
    "dataset_local.describe()"
   ]
  },
  {
   "cell_type": "markdown",
   "metadata": {
    "deletable": true,
    "editable": true
   },
   "source": [
    "# Next steps\n",
    "\n",
    "- Run `help()` to learn more ways to access and use your data. Try:\n",
    "  - `help(dw.load_dataset)`\n",
    "  - `help(dw.query)`\n",
    "- Learn more at: https://github.com/datadotworld/data.world-py and https://docs.data.world"
   ]
  },
  {
   "cell_type": "markdown",
   "metadata": {},
   "source": [
    "### Let's reshape the data and study relationships between filers, organizations, and disclosure types..."
   ]
  },
  {
   "cell_type": "code",
   "execution_count": 5,
   "metadata": {
    "collapsed": true
   },
   "outputs": [],
   "source": [
    "# create an empty array to hold the new, reshaped data\n",
    "\n",
    "d = []"
   ]
  },
  {
   "cell_type": "markdown",
   "metadata": {},
   "source": [
    "### From each file, we'll loop through the records and grab the name of the worker, the name of the organization or entity related to the disclosure, and the location if available"
   ]
  },
  {
   "cell_type": "code",
   "execution_count": 6,
   "metadata": {
    "collapsed": false
   },
   "outputs": [
    {
     "name": "stdout",
     "output_type": "stream",
     "text": [
      "187 records added from the employment table\n",
      "187 records in the new dataset so far\n"
     ]
    }
   ],
   "source": [
    "c = 0\n",
    "for i in dataset_local.tables['filer-s-employment-agreements-and-arrangements']:\n",
    "    file = i['file']\n",
    "    disclosure_type = \"employment\"\n",
    "    org = i['employer-or-party']\n",
    "    location = i['city-state']\n",
    "    c = c + 1\n",
    "    d.append({'file': file, 'disclosure_type': disclosure_type, 'org': org, 'location': location})\n",
    "\n",
    "print(str(c) + \" records added from the employment table\")\n",
    "print(str(len(d)) + \" records in the new dataset so far\")"
   ]
  },
  {
   "cell_type": "code",
   "execution_count": 7,
   "metadata": {
    "collapsed": false
   },
   "outputs": [
    {
     "name": "stdout",
     "output_type": "stream",
     "text": [
      "2050 records added from the assets table\n",
      "2237 records in the new dataset so far\n"
     ]
    }
   ],
   "source": [
    "c = 0\n",
    "for i in dataset_local.tables['filer-s-employment-assets-_-income-and-retirement-accounts']:\n",
    "    file = i['file']\n",
    "    disclosure_type = \"assets\"\n",
    "    org = i['description']\n",
    "    location = None\n",
    "    c = c + 1\n",
    "    d.append({'file': file, 'disclosure_type': disclosure_type, 'org': org, 'location': location})\n",
    "\n",
    "\n",
    "print(str(c) + \" records added from the assets table\")\n",
    "print(str(len(d)) + \" records in the new dataset so far\")"
   ]
  },
  {
   "cell_type": "code",
   "execution_count": 8,
   "metadata": {
    "collapsed": false
   },
   "outputs": [
    {
     "name": "stdout",
     "output_type": "stream",
     "text": [
      "812 records added from the positions table\n",
      "3049 records in the new dataset so far\n"
     ]
    }
   ],
   "source": [
    "c = 0\n",
    "for i in dataset_local.tables['filer-s-positions-held-outside-united-states-government']:\n",
    "    file = i['file']\n",
    "    disclosure_type = \"positions\"\n",
    "    org = i['organization-name']\n",
    "    location = i['city-state']\n",
    "    c = c + 1\n",
    "    d.append({'file': file, 'disclosure_type': disclosure_type, 'org': org, 'location': location})\n",
    "\n",
    "print(str(c) + \" records added from the positions table\")\n",
    "print(str(len(d)) + \" records in the new dataset so far\")"
   ]
  },
  {
   "cell_type": "code",
   "execution_count": 9,
   "metadata": {
    "collapsed": false
   },
   "outputs": [
    {
     "name": "stdout",
     "output_type": "stream",
     "text": [
      "798 records added from the compensations table\n",
      "3847 records in the new dataset so far\n"
     ]
    }
   ],
   "source": [
    "c = 0\n",
    "for i in dataset_local.tables['filer-s-sources-of-compensation-exceeding-_5-000-in-a-year']:\n",
    "    file = i['file']\n",
    "    disclosure_type = \"compensations\"\n",
    "    org = i['source-name']\n",
    "    location = i['city-state']\n",
    "    c = c + 1\n",
    "    d.append({'file': file, 'disclosure_type': disclosure_type, 'org': org, 'location': location})\n",
    "    \n",
    "print(str(c) + \" records added from the compensations table\")\n",
    "print(str(len(d)) + \" records in the new dataset so far\")"
   ]
  },
  {
   "cell_type": "code",
   "execution_count": 10,
   "metadata": {
    "collapsed": false
   },
   "outputs": [
    {
     "name": "stdout",
     "output_type": "stream",
     "text": [
      "155 records added from the liabilities table\n",
      "4002 records in the new dataset so far\n"
     ]
    }
   ],
   "source": [
    "c = 0\n",
    "for i in dataset_local.tables['liabilities']:\n",
    "    file = i['file']\n",
    "    disclosure_type = \"liabilities\"\n",
    "    org = i['creditor-name']\n",
    "    location = None\n",
    "    c = c + 1\n",
    "    d.append({'file': file, 'disclosure_type': disclosure_type, 'org': org, 'location': location})\n",
    "\n",
    "print(str(c) + \" records added from the liabilities table\")\n",
    "print(str(len(d)) + \" records in the new dataset so far\")"
   ]
  },
  {
   "cell_type": "code",
   "execution_count": 11,
   "metadata": {
    "collapsed": false
   },
   "outputs": [
    {
     "name": "stdout",
     "output_type": "stream",
     "text": [
      "7485 records added from the other_assets table\n",
      "11487 records in the new dataset so far\n"
     ]
    }
   ],
   "source": [
    "c = 0\n",
    "for i in dataset_local.tables['other-assets-and-income']:\n",
    "    file = i['file']\n",
    "    disclosure_type = \"other_assets\"\n",
    "    org = i['description']\n",
    "    location = None\n",
    "    c = c + 1\n",
    "    d.append({'file': file, 'disclosure_type': disclosure_type, 'org': org, 'location': location})\n",
    "\n",
    "print(str(c) + \" records added from the other_assets table\")\n",
    "print(str(len(d)) + \" records in the new dataset so far\")"
   ]
  },
  {
   "cell_type": "code",
   "execution_count": 12,
   "metadata": {
    "collapsed": false
   },
   "outputs": [
    {
     "data": {
      "text/plain": [
       "{'disclosure_type': 'employment',\n",
       " 'file': 'Acosta, Rene Alexander',\n",
       " 'location': 'Miami, Florida',\n",
       " 'org': 'U.S. Century Bank'}"
      ]
     },
     "execution_count": 12,
     "metadata": {},
     "output_type": "execute_result"
    }
   ],
   "source": [
    "# let's preview a record to see how it looks\n",
    "\n",
    "d[0]"
   ]
  },
  {
   "cell_type": "markdown",
   "metadata": {},
   "source": [
    "### let's loop through each record in the new dataset and use the crosswalk to add in the clustered version of the organization's name (if it exists)"
   ]
  },
  {
   "cell_type": "code",
   "execution_count": 15,
   "metadata": {
    "collapsed": false
   },
   "outputs": [],
   "source": [
    "for i in d:\n",
    "    for o in dataset_local.tables['org_crosswalk']:\n",
    "        if i['org'] == o['source_org_value']:\n",
    "            i['org_cluster'] = o['org_group']"
   ]
  },
  {
   "cell_type": "markdown",
   "metadata": {},
   "source": [
    "### if we put our dataset into a pandas dataframe, we can browse its profile:"
   ]
  },
  {
   "cell_type": "code",
   "execution_count": 16,
   "metadata": {
    "collapsed": false
   },
   "outputs": [],
   "source": [
    "df = pd.DataFrame(d)"
   ]
  },
  {
   "cell_type": "code",
   "execution_count": 17,
   "metadata": {
    "collapsed": false
   },
   "outputs": [
    {
     "data": {
      "text/html": [
       "<div>\n",
       "<table border=\"1\" class=\"dataframe\">\n",
       "  <thead>\n",
       "    <tr style=\"text-align: right;\">\n",
       "      <th></th>\n",
       "      <th>disclosure_type</th>\n",
       "      <th>file</th>\n",
       "      <th>location</th>\n",
       "      <th>org</th>\n",
       "      <th>org_cluster</th>\n",
       "    </tr>\n",
       "  </thead>\n",
       "  <tbody>\n",
       "    <tr>\n",
       "      <th>count</th>\n",
       "      <td>11487</td>\n",
       "      <td>11487</td>\n",
       "      <td>1797</td>\n",
       "      <td>11487</td>\n",
       "      <td>2080</td>\n",
       "    </tr>\n",
       "    <tr>\n",
       "      <th>unique</th>\n",
       "      <td>6</td>\n",
       "      <td>103</td>\n",
       "      <td>390</td>\n",
       "      <td>9203</td>\n",
       "      <td>975</td>\n",
       "    </tr>\n",
       "    <tr>\n",
       "      <th>top</th>\n",
       "      <td>other_assets</td>\n",
       "      <td>Liddell, Chris</td>\n",
       "      <td>New York, New York</td>\n",
       "      <td>Republican National Committee</td>\n",
       "      <td>Republican National Committee</td>\n",
       "    </tr>\n",
       "    <tr>\n",
       "      <th>freq</th>\n",
       "      <td>7485</td>\n",
       "      <td>1707</td>\n",
       "      <td>417</td>\n",
       "      <td>46</td>\n",
       "      <td>64</td>\n",
       "    </tr>\n",
       "  </tbody>\n",
       "</table>\n",
       "</div>"
      ],
      "text/plain": [
       "       disclosure_type            file            location  \\\n",
       "count            11487           11487                1797   \n",
       "unique               6             103                 390   \n",
       "top       other_assets  Liddell, Chris  New York, New York   \n",
       "freq              7485            1707                 417   \n",
       "\n",
       "                                  org                    org_cluster  \n",
       "count                           11487                           2080  \n",
       "unique                           9203                            975  \n",
       "top     Republican National Committee  Republican National Committee  \n",
       "freq                               46                             64  "
      ]
     },
     "execution_count": 17,
     "metadata": {},
     "output_type": "execute_result"
    }
   ],
   "source": [
    "df.describe()"
   ]
  },
  {
   "cell_type": "markdown",
   "metadata": {},
   "source": [
    "## with clustering, we went from 9179 unique organization names to 975. Not bad!"
   ]
  },
  {
   "cell_type": "code",
   "execution_count": 18,
   "metadata": {
    "collapsed": false
   },
   "outputs": [],
   "source": [
    "# to write the new dataset to csv, run this command: \n",
    "df.to_csv(path_or_buf=\"./d.csv\")"
   ]
  },
  {
   "cell_type": "code",
   "execution_count": null,
   "metadata": {
    "collapsed": false
   },
   "outputs": [],
   "source": []
  },
  {
   "cell_type": "code",
   "execution_count": null,
   "metadata": {
    "collapsed": false
   },
   "outputs": [],
   "source": []
  },
  {
   "cell_type": "code",
   "execution_count": null,
   "metadata": {
    "collapsed": false
   },
   "outputs": [],
   "source": []
  },
  {
   "cell_type": "code",
   "execution_count": null,
   "metadata": {
    "collapsed": true
   },
   "outputs": [],
   "source": []
  }
 ],
 "metadata": {
  "kernelspec": {
   "display_name": "Python 3",
   "language": "python",
   "name": "python3"
  },
  "language_info": {
   "codemirror_mode": {
    "name": "ipython",
    "version": 3
   },
   "file_extension": ".py",
   "mimetype": "text/x-python",
   "name": "python",
   "nbconvert_exporter": "python",
   "pygments_lexer": "ipython3",
   "version": "3.6.0"
  }
 },
 "nbformat": 4,
 "nbformat_minor": 2
}
